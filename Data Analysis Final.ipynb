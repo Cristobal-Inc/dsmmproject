{
 "cells": [
  {
   "cell_type": "code",
   "execution_count": 1,
   "metadata": {},
   "outputs": [],
   "source": [
    "import pandas as pd\n",
    "import ast\n",
    "import matplotlib.pyplot as plt\n",
    "from collections import Counter\n",
    "from ipywidgets import widgets\n",
    "%matplotlib inline"
   ]
  },
  {
   "cell_type": "code",
   "execution_count": 2,
   "metadata": {},
   "outputs": [],
   "source": [
    "def top_trending_items(x, column):\n",
    "    list_data = []\n",
    "    for data1 in data[column]:\n",
    "        list_data = list_data + ast.literal_eval(data1)\n",
    "\n",
    "    dict_items = Counter(list_data)\n",
    "    df1 = pd.DataFrame.from_dict(dict_items, orient='index').sort_values(0, ascending=False).head(x)\n",
    "    print(df1)\n",
    "    ax = df1.plot(kind = 'bar')\n",
    "    #lt.yticks(range(8000,10000,200))\n",
    "    plt.xlabel('Items')\n",
    "    plt.ylabel('most frequently sold items')\n",
    "    #lt.axis([0, 6, 0, 20])\n",
    "    ax.set(ylim = (8500,10000))\n",
    "    plt.show()"
   ]
  },
  {
   "cell_type": "code",
   "execution_count": 3,
   "metadata": {},
   "outputs": [
    {
     "data": {
      "text/html": [
       "<div>\n",
       "<style scoped>\n",
       "    .dataframe tbody tr th:only-of-type {\n",
       "        vertical-align: middle;\n",
       "    }\n",
       "\n",
       "    .dataframe tbody tr th {\n",
       "        vertical-align: top;\n",
       "    }\n",
       "\n",
       "    .dataframe thead th {\n",
       "        text-align: right;\n",
       "    }\n",
       "</style>\n",
       "<table border=\"1\" class=\"dataframe\">\n",
       "  <thead>\n",
       "    <tr style=\"text-align: right;\">\n",
       "      <th></th>\n",
       "      <th>Date_Time</th>\n",
       "      <th>dateOfArrival</th>\n",
       "      <th>timeOfArrival</th>\n",
       "      <th>month</th>\n",
       "      <th>day</th>\n",
       "      <th>dayOfWeek</th>\n",
       "      <th>hour</th>\n",
       "      <th>week</th>\n",
       "      <th>groupStrength</th>\n",
       "      <th>tableNumber</th>\n",
       "      <th>itemsOrdered</th>\n",
       "      <th>discount</th>\n",
       "      <th>totalBuyAmount</th>\n",
       "      <th>totalSellAmount</th>\n",
       "      <th>numOfEmployee</th>\n",
       "      <th>amount_after_discount</th>\n",
       "      <th>Year</th>\n",
       "      <th>minutes</th>\n",
       "    </tr>\n",
       "  </thead>\n",
       "  <tbody>\n",
       "    <tr>\n",
       "      <th>0</th>\n",
       "      <td>2017-01-01 11:38:00</td>\n",
       "      <td>2017-01-01</td>\n",
       "      <td>11:38:00</td>\n",
       "      <td>1</td>\n",
       "      <td>1</td>\n",
       "      <td>Sunday</td>\n",
       "      <td>11</td>\n",
       "      <td>1</td>\n",
       "      <td>2</td>\n",
       "      <td>T01</td>\n",
       "      <td>['P02', 'P06', 'P09', 'P15']</td>\n",
       "      <td>15</td>\n",
       "      <td>25</td>\n",
       "      <td>40</td>\n",
       "      <td>7</td>\n",
       "      <td>34.00</td>\n",
       "      <td>2017</td>\n",
       "      <td>38</td>\n",
       "    </tr>\n",
       "    <tr>\n",
       "      <th>1</th>\n",
       "      <td>2017-01-01 11:42:00</td>\n",
       "      <td>2017-01-01</td>\n",
       "      <td>11:42:00</td>\n",
       "      <td>1</td>\n",
       "      <td>1</td>\n",
       "      <td>Sunday</td>\n",
       "      <td>11</td>\n",
       "      <td>1</td>\n",
       "      <td>2</td>\n",
       "      <td>T05</td>\n",
       "      <td>['P10', 'P15', 'P08', 'P01', 'P02', 'P12']</td>\n",
       "      <td>15</td>\n",
       "      <td>44</td>\n",
       "      <td>65</td>\n",
       "      <td>7</td>\n",
       "      <td>55.25</td>\n",
       "      <td>2017</td>\n",
       "      <td>42</td>\n",
       "    </tr>\n",
       "    <tr>\n",
       "      <th>2</th>\n",
       "      <td>2017-01-01 11:50:00</td>\n",
       "      <td>2017-01-01</td>\n",
       "      <td>11:50:00</td>\n",
       "      <td>1</td>\n",
       "      <td>1</td>\n",
       "      <td>Sunday</td>\n",
       "      <td>11</td>\n",
       "      <td>1</td>\n",
       "      <td>2</td>\n",
       "      <td>T03</td>\n",
       "      <td>['P02', 'P03', 'P08', 'P04', 'P06']</td>\n",
       "      <td>15</td>\n",
       "      <td>28</td>\n",
       "      <td>46</td>\n",
       "      <td>7</td>\n",
       "      <td>39.10</td>\n",
       "      <td>2017</td>\n",
       "      <td>50</td>\n",
       "    </tr>\n",
       "    <tr>\n",
       "      <th>3</th>\n",
       "      <td>2017-01-01 11:51:00</td>\n",
       "      <td>2017-01-01</td>\n",
       "      <td>11:51:00</td>\n",
       "      <td>1</td>\n",
       "      <td>1</td>\n",
       "      <td>Sunday</td>\n",
       "      <td>11</td>\n",
       "      <td>1</td>\n",
       "      <td>1</td>\n",
       "      <td>T08</td>\n",
       "      <td>['P11', 'P02', 'P12', 'P06', 'P15']</td>\n",
       "      <td>15</td>\n",
       "      <td>33</td>\n",
       "      <td>51</td>\n",
       "      <td>7</td>\n",
       "      <td>43.35</td>\n",
       "      <td>2017</td>\n",
       "      <td>51</td>\n",
       "    </tr>\n",
       "    <tr>\n",
       "      <th>4</th>\n",
       "      <td>2017-01-01 11:54:00</td>\n",
       "      <td>2017-01-01</td>\n",
       "      <td>11:54:00</td>\n",
       "      <td>1</td>\n",
       "      <td>1</td>\n",
       "      <td>Sunday</td>\n",
       "      <td>11</td>\n",
       "      <td>1</td>\n",
       "      <td>4</td>\n",
       "      <td>T07</td>\n",
       "      <td>['P01', 'P09', 'P10', 'P04', 'P13']</td>\n",
       "      <td>15</td>\n",
       "      <td>35</td>\n",
       "      <td>51</td>\n",
       "      <td>7</td>\n",
       "      <td>43.35</td>\n",
       "      <td>2017</td>\n",
       "      <td>54</td>\n",
       "    </tr>\n",
       "  </tbody>\n",
       "</table>\n",
       "</div>"
      ],
      "text/plain": [
       "             Date_Time dateOfArrival timeOfArrival  month  day dayOfWeek  \\\n",
       "0  2017-01-01 11:38:00    2017-01-01      11:38:00      1    1    Sunday   \n",
       "1  2017-01-01 11:42:00    2017-01-01      11:42:00      1    1    Sunday   \n",
       "2  2017-01-01 11:50:00    2017-01-01      11:50:00      1    1    Sunday   \n",
       "3  2017-01-01 11:51:00    2017-01-01      11:51:00      1    1    Sunday   \n",
       "4  2017-01-01 11:54:00    2017-01-01      11:54:00      1    1    Sunday   \n",
       "\n",
       "   hour  week  groupStrength tableNumber  \\\n",
       "0    11     1              2         T01   \n",
       "1    11     1              2         T05   \n",
       "2    11     1              2         T03   \n",
       "3    11     1              1         T08   \n",
       "4    11     1              4         T07   \n",
       "\n",
       "                                 itemsOrdered  discount  totalBuyAmount  \\\n",
       "0                ['P02', 'P06', 'P09', 'P15']        15              25   \n",
       "1  ['P10', 'P15', 'P08', 'P01', 'P02', 'P12']        15              44   \n",
       "2         ['P02', 'P03', 'P08', 'P04', 'P06']        15              28   \n",
       "3         ['P11', 'P02', 'P12', 'P06', 'P15']        15              33   \n",
       "4         ['P01', 'P09', 'P10', 'P04', 'P13']        15              35   \n",
       "\n",
       "   totalSellAmount  numOfEmployee  amount_after_discount  Year  minutes  \n",
       "0               40              7                  34.00  2017       38  \n",
       "1               65              7                  55.25  2017       42  \n",
       "2               46              7                  39.10  2017       50  \n",
       "3               51              7                  43.35  2017       51  \n",
       "4               51              7                  43.35  2017       54  "
      ]
     },
     "execution_count": 3,
     "metadata": {},
     "output_type": "execute_result"
    }
   ],
   "source": [
    "data = pd.read_csv(\"D:\\FinalProject\\Project_Files\\\\final_data2.csv\")\n",
    "data['Year'] = pd.to_datetime(data['dateOfArrival'].astype(str)).dt.year.astype(int)\n",
    "data['minutes'] = pd.to_datetime(data['timeOfArrival'].astype(str)).dt.minute.astype(int)\n",
    "data.head()"
   ]
  },
  {
   "cell_type": "code",
   "execution_count": 4,
   "metadata": {},
   "outputs": [],
   "source": [
    "#widgets.interactive(top_trending_items, x= 10,  column = 'itemsOrdered' )"
   ]
  },
  {
   "cell_type": "code",
   "execution_count": null,
   "metadata": {},
   "outputs": [],
   "source": [
    "top_trending_items(x= 10,  column = 'itemsOrdered')"
   ]
  },
  {
   "cell_type": "code",
   "execution_count": 6,
   "metadata": {},
   "outputs": [
    {
     "data": {
      "text/plain": [
       "Text(0, 0.5, 'Total Sale amount for the day of week')"
      ]
     },
     "execution_count": 6,
     "metadata": {},
     "output_type": "execute_result"
    },
    {
     "data": {
      "image/png": "[encoded data removed]",
      "text/plain": [
       "<Figure size 432x288 with 1 Axes>"
      ]
     },
     "metadata": {
      "needs_background": "light"
     },
     "output_type": "display_data"
    }
   ],
   "source": [
    "# Plot Averagae number of sales on day of week\n",
    "data.groupby('dayOfWeek')['totalSellAmount'].count().head(10).sort_values(ascending = False).plot(kind = 'bar')\n",
    "plt.ylabel('Total Sale amount for the day of week')"
   ]
  },
  {
   "cell_type": "code",
   "execution_count": 7,
   "metadata": {},
   "outputs": [
    {
     "data": {
      "text/plain": [
       "Text(0, 0.5, 'Total sale amount for the day')"
      ]
     },
     "execution_count": 7,
     "metadata": {},
     "output_type": "execute_result"
    },
    {
     "data": {
      "image/png": "[encoded data removed]",
      "text/plain": [
       "<Figure size 432x288 with 1 Axes>"
      ]
     },
     "metadata": {
      "needs_background": "light"
     },
     "output_type": "display_data"
    }
   ],
   "source": [
    "# Plot dates having top sales\n",
    "data[['dateOfArrival','totalSellAmount']].sort_values(['dateOfArrival', 'totalSellAmount'], ascending = False).head(10).plot( kind = 'bar')\n",
    "plt.xlabel('Date of arrival')\n",
    "plt.ylabel('Total sale amount for the day')\n",
    "#plt.xticks(data['dateOfArrival'].head(10))"
   ]
  },
  {
   "cell_type": "code",
   "execution_count": null,
   "metadata": {},
   "outputs": [],
   "source": [
    "data.head()"
   ]
  },
  {
   "cell_type": "code",
   "execution_count": null,
   "metadata": {},
   "outputs": [],
   "source": [
    "#data = data.drop('Date_Time', axis = 1)\n",
    "data = data.drop('dateOfArrival', axis = 1)\n",
    "data = data.drop('timeOfArrival', axis =1)\n",
    "data = data.drop('Date_Time', axis =1)\n",
    "data.head()"
   ]
  },
  {
   "cell_type": "code",
   "execution_count": null,
   "metadata": {},
   "outputs": [],
   "source": [
    "from sklearn.preprocessing import LabelEncoder\n",
    "labelenc = LabelEncoder()\n",
    "data['dayOfWeek'] = labelenc.fit_transform(data['dayOfWeek'])\n",
    "data.head()"
   ]
  },
  {
   "cell_type": "code",
   "execution_count": null,
   "metadata": {},
   "outputs": [],
   "source": [
    "import seaborn as sns\n",
    "sns.set(style=\"ticks\", color_codes=True)\n",
    "g = sns.pairplot(data)"
   ]
  },
  {
   "cell_type": "code",
   "execution_count": null,
   "metadata": {},
   "outputs": [],
   "source": [
    "corr = data.corr()\n",
    "ax = sns.heatmap(\n",
    "    corr\n",
    "    ,annot=True\n",
    ")\n",
    "plt.figure(figsize = (25,25))\n",
    "plt.show()"
   ]
  },
  {
   "cell_type": "code",
   "execution_count": null,
   "metadata": {},
   "outputs": [],
   "source": [
    "data.head()"
   ]
  }
 ],
 "metadata": {
  "kernelspec": {
   "display_name": "Python 3",
   "language": "python",
   "name": "python3"
  },
  "language_info": {
   "codemirror_mode": {
    "name": "ipython",
    "version": 3
   },
   "file_extension": ".py",
   "mimetype": "text/x-python",
   "name": "python",
   "nbconvert_exporter": "python",
   "pygments_lexer": "ipython3",
   "version": "3.7.3"
  }
 },
 "nbformat": 4,
 "nbformat_minor": 2
}
